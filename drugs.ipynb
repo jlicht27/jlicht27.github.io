{
 "cells": [
  {
   "cell_type": "code",
   "execution_count": 1,
   "id": "5abc28ad",
   "metadata": {},
   "outputs": [],
   "source": [
    "import pandas as pd\n",
    "drugs = pd.read_csv(\"drugs.csv\")"
   ]
  },
  {
   "cell_type": "code",
   "execution_count": 2,
   "id": "b1cbc52c",
   "metadata": {},
   "outputs": [],
   "source": [
    "def get_columns(dataframe, key):\n",
    "    to_be_dropped = []\n",
    "\n",
    "    for col in list(dataframe.columns)[5:]: #never drop state, year, or populations\n",
    "        if key not in col:\n",
    "            to_be_dropped.append(col)\n",
    "                    \n",
    "    return dataframe.drop(to_be_dropped, axis=1)     "
   ]
  },
  {
   "cell_type": "code",
   "execution_count": 3,
   "id": "5ea785ed",
   "metadata": {},
   "outputs": [],
   "source": [
    "#first thing i want to do is drop the totals columns\n",
    "#since each state has a different population, it really only makes sense\n",
    "#to use the rates for each measurement\n",
    "\n",
    "#lemme know if you think we shouldn't do that tho\n",
    "\n",
    "# get just percents\n",
    "drugs_pct = get_columns(drugs, \"Rates\")\n",
    "\n",
    "# get alochol related things\n",
    "alcohol_pct = get_columns(drugs_pct, \"Alcohol\")\n",
    "\n",
    "# get tobacco related things\n",
    "tobacco_pct = get_columns(drugs_pct, \"Tobacco\")\n",
    "\n",
    "# you see where this is going...\n",
    "cocaine_pct = get_columns(drugs_pct, \"Cocaine\")\n",
    "marijuana_pct = get_columns(drugs_pct, \"Marijuana\")\n",
    "\n",
    "# as far as i can tell thats all the groupings for the drugs"
   ]
  },
  {
   "cell_type": "markdown",
   "id": "1c3b066f",
   "metadata": {},
   "source": [
    "So i just talked to culotta before class, he thought maybe plot the rates of stuff vs state size. maybe bigger states have a higher rate of stuff, maybe smaller states have a higher rate of things. maybe the totals are still relevant, we shouldnt just throw them out."
   ]
  }
 ],
 "metadata": {
  "kernelspec": {
   "display_name": "Python 3 (ipykernel)",
   "language": "python",
   "name": "python3"
  },
  "language_info": {
   "codemirror_mode": {
    "name": "ipython",
    "version": 3
   },
   "file_extension": ".py",
   "mimetype": "text/x-python",
   "name": "python",
   "nbconvert_exporter": "python",
   "pygments_lexer": "ipython3",
   "version": "3.9.12"
  }
 },
 "nbformat": 4,
 "nbformat_minor": 5
}
